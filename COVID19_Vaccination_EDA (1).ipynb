{
 "cells": [
  {
   "cell_type": "markdown",
   "metadata": {},
   "source": [
    "# 🦠 COVID-19 Vaccination Progress EDA\n",
    "\n",
    "Exploratory Data Analysis on the COVID-19 World Vaccination dataset using Python and Google Colab."
   ]
  },
  {
   "cell_type": "code",
   "execution_count": 1,
   "metadata": {},
   "outputs": [
    {
     "name": "stderr",
     "output_type": "stream",
     "text": [
      "WARNING: Retrying (Retry(total=4, connect=None, read=None, redirect=None, status=None)) after connection broken by 'NewConnectionError('<pip._vendor.urllib3.connection.HTTPSConnection object at 0x0000022F6D92C590>: Failed to establish a new connection: [Errno 11001] getaddrinfo failed')': /simple/kaggle/\n",
      "WARNING: Retrying (Retry(total=3, connect=None, read=None, redirect=None, status=None)) after connection broken by 'NewConnectionError('<pip._vendor.urllib3.connection.HTTPSConnection object at 0x0000022F6D8D9F90>: Failed to establish a new connection: [Errno 11001] getaddrinfo failed')': /simple/kaggle/\n",
      "WARNING: Retrying (Retry(total=2, connect=None, read=None, redirect=None, status=None)) after connection broken by 'NewConnectionError('<pip._vendor.urllib3.connection.HTTPSConnection object at 0x0000022F6D8DA210>: Failed to establish a new connection: [Errno 11001] getaddrinfo failed')': /simple/kaggle/\n",
      "WARNING: Retrying (Retry(total=1, connect=None, read=None, redirect=None, status=None)) after connection broken by 'NewConnectionError('<pip._vendor.urllib3.connection.HTTPSConnection object at 0x0000022F6D8DA490>: Failed to establish a new connection: [Errno 11001] getaddrinfo failed')': /simple/kaggle/\n",
      "WARNING: Retrying (Retry(total=0, connect=None, read=None, redirect=None, status=None)) after connection broken by 'NewConnectionError('<pip._vendor.urllib3.connection.HTTPSConnection object at 0x0000022F6D8DA710>: Failed to establish a new connection: [Errno 11001] getaddrinfo failed')': /simple/kaggle/\n",
      "ERROR: Could not find a version that satisfies the requirement kaggle (from versions: none)\n",
      "ERROR: No matching distribution found for kaggle\n"
     ]
    },
    {
     "name": "stdout",
     "output_type": "stream",
     "text": [
      "Note: you may need to restart the kernel to use updated packages.\n"
     ]
    },
    {
     "ename": "ModuleNotFoundError",
     "evalue": "No module named 'google'",
     "output_type": "error",
     "traceback": [
      "\u001b[31m---------------------------------------------------------------------------\u001b[39m",
      "\u001b[31mModuleNotFoundError\u001b[39m                       Traceback (most recent call last)",
      "\u001b[36mCell\u001b[39m\u001b[36m \u001b[39m\u001b[32mIn[1]\u001b[39m\u001b[32m, line 5\u001b[39m\n\u001b[32m      2\u001b[39m get_ipython().run_line_magic(\u001b[33m'\u001b[39m\u001b[33mpip\u001b[39m\u001b[33m'\u001b[39m, \u001b[33m'\u001b[39m\u001b[33minstall kaggle\u001b[39m\u001b[33m'\u001b[39m)\n\u001b[32m      4\u001b[39m \u001b[38;5;66;03m# Upload kaggle.json API token\u001b[39;00m\n\u001b[32m----> \u001b[39m\u001b[32m5\u001b[39m \u001b[38;5;28;01mfrom\u001b[39;00m\u001b[38;5;250m \u001b[39m\u001b[34;01mgoogle\u001b[39;00m\u001b[34;01m.\u001b[39;00m\u001b[34;01mcolab\u001b[39;00m\u001b[38;5;250m \u001b[39m\u001b[38;5;28;01mimport\u001b[39;00m files\n\u001b[32m      6\u001b[39m files.upload()  \u001b[38;5;66;03m# Upload your kaggle.json here\u001b[39;00m\n",
      "\u001b[31mModuleNotFoundError\u001b[39m: No module named 'google'"
     ]
    }
   ],
   "source": [
    "# Install Kaggle\n",
    "%pip install kaggle\n",
    "\n",
    "# Upload kaggle.json API token\n",
    "from google.colab import files\n",
    "files.upload()  # Upload your kaggle.json here"
   ]
  },
  {
   "cell_type": "code",
   "execution_count": null,
   "metadata": {},
   "outputs": [],
   "source": [
    "# Set up Kaggle API access\n",
    "!mkdir ~/.kaggle\n",
    "!cp kaggle.json ~/.kaggle/\n",
    "!chmod 600 ~/.kaggle/kaggle.json"
   ]
  },
  {
   "cell_type": "code",
   "execution_count": null,
   "metadata": {},
   "outputs": [],
   "source": [
    "# Download and unzip dataset\n",
    "!kaggle datasets download -d gpreda/covid-world-vaccination-progress\n",
    "!unzip covid-world-vaccination-progress.zip"
   ]
  },
  {
   "cell_type": "code",
   "execution_count": null,
   "metadata": {},
   "outputs": [],
   "source": [
    "import pandas as pd\n",
    "\n",
    "# Load the dataset\n",
    "df = pd.read_csv(\"country_vaccinations.csv\")\n",
    "df.head()"
   ]
  },
  {
   "cell_type": "code",
   "execution_count": null,
   "metadata": {},
   "outputs": [],
   "source": [
    "# Data cleaning\n",
    "df.isnull().sum()\n",
    "df['total_vaccinations'] = df['total_vaccinations'].fillna(df['total_vaccinations'].median())\n",
    "df['people_vaccinated'] = df['people_vaccinated'].fillna(df['people_vaccinated'].median())\n",
    "df['people_fully_vaccinated'] = df['people_fully_vaccinated'].fillna(df['people_fully_vaccinated'].median())\n",
    "df = df.dropna(subset=['country', 'date'])\n",
    "df['date'] = pd.to_datetime(df['date'])"
   ]
  },
  {
   "cell_type": "code",
   "execution_count": null,
   "metadata": {},
   "outputs": [],
   "source": [
    "# EDA visualizations\n",
    "import matplotlib.pyplot as plt\n",
    "import seaborn as sns\n",
    "\n",
    "# Top 10 countries by total vaccinations\n",
    "top_vaccinated = df.groupby('country')['total_vaccinations'].max().sort_values(ascending=False).head(10)\n",
    "top_vaccinated.plot(kind='barh', figsize=(10, 6), color='teal')\n",
    "plt.title('Top 10 Countries by Total Vaccinations')\n",
    "plt.xlabel('Total Vaccinations')\n",
    "plt.show()"
   ]
  },
  {
   "cell_type": "code",
   "execution_count": null,
   "metadata": {},
   "outputs": [],
   "source": [
    "# Global vaccination trend over time\n",
    "global_trend = df.groupby('date')['total_vaccinations'].sum()\n",
    "\n",
    "plt.figure(figsize=(12, 5))\n",
    "plt.plot(global_trend, color='purple')\n",
    "plt.title('Global Total Vaccinations Over Time')\n",
    "plt.xlabel('Date')\n",
    "plt.ylabel('Total Vaccinations')\n",
    "plt.grid(True)\n",
    "plt.show()"
   ]
  },
  {
   "cell_type": "code",
   "execution_count": null,
   "metadata": {},
   "outputs": [],
   "source": [
    "# Vaccine types used\n",
    "df['vaccine'].value_counts().plot(kind='barh', figsize=(10, 6), color='orange')\n",
    "plt.title('Vaccine Types Used Across Countries')\n",
    "plt.xlabel('Number of Records')\n",
    "plt.show()"
   ]
  },
  {
   "cell_type": "code",
   "execution_count": null,
   "metadata": {},
   "outputs": [],
   "source": [
    "# Optional: save cleaned dataset\n",
    "df.to_csv(\"cleaned_covid_vaccination_data.csv\", index=False)"
   ]
  }
 ],
 "metadata": {
  "kernelspec": {
   "display_name": "Python 3",
   "language": "python",
   "name": "python3"
  },
  "language_info": {
   "codemirror_mode": {
    "name": "ipython",
    "version": 3
   },
   "file_extension": ".py",
   "mimetype": "text/x-python",
   "name": "python",
   "nbconvert_exporter": "python",
   "pygments_lexer": "ipython3",
   "version": "3.13.2"
  }
 },
 "nbformat": 4,
 "nbformat_minor": 0
}
